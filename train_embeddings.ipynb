{
  "cells": [
    {
      "attachments": {},
      "cell_type": "markdown",
      "metadata": {},
      "source": [
        "# Imports"
      ]
    },
    {
      "attachments": {},
      "cell_type": "markdown",
      "metadata": {},
      "source": [
        "# Helper Functions"
      ]
    },
    {
      "cell_type": "code",
      "execution_count": 1,
      "metadata": {},
      "outputs": [],
      "source": [
        "import pandas as pd\n",
        "import numpy as np\n",
        "import operator\n",
        "import sys\n",
        "from gensim.models import Word2Vec\n",
        "from gensim.test.utils import common_texts, get_tmpfile\n",
        "from sklearn.decomposition import PCA\n",
        "from sklearn.datasets import make_classification\n",
        "from sklearn.metrics import accuracy_score, confusion_matrix\n",
        "from sklearn.ensemble import RandomForestClassifier\n",
        "from sklearn import svm, tree\n",
        "from sklearn.naive_bayes import GaussianNB\n",
        "from sklearn.model_selection import train_test_split\n",
        "from matplotlib import pyplot\n",
        "import matplotlib.patches as mpatches\n",
        "import seaborn as sns"
      ]
    },
    {
      "cell_type": "code",
      "execution_count": 8,
      "metadata": {},
      "outputs": [],
      "source": [
        "def sort_dict(mydict, reversed=False):\n",
        "  return sorted(mydict.items(), key=operator.itemgetter(1), reverse=reversed)"
      ]
    },
    {
      "attachments": {},
      "cell_type": "markdown",
      "metadata": {},
      "source": [
        "# Read Data"
      ]
    },
    {
      "cell_type": "code",
      "execution_count": 9,
      "metadata": {},
      "outputs": [
        {
          "name": "stdout",
          "output_type": "stream",
          "text": [
            "\n",
            "Companies Details\n",
            "  Symbol                 Name                  Sector\n",
            "0    MMM           3M Company             Industrials\n",
            "1    AOS      A.O. Smith Corp             Industrials\n",
            "2    ABT  Abbott Laboratories             Health Care\n",
            "3   ABBV          AbbVie Inc.             Health Care\n",
            "4    ACN        Accenture plc  Information Technology\n",
            "\n",
            "Companies Stocks\n",
            "         date   open   high    low  close    volume Name\n",
            "0  2013-02-08  15.07  15.12  14.63  14.75   8407500  AAL\n",
            "1  2013-02-11  14.89  15.01  14.26  14.46   8882000  AAL\n",
            "2  2013-02-12  14.45  14.51  14.10  14.27   8126000  AAL\n",
            "3  2013-02-13  14.30  14.94  14.25  14.66  10259500  AAL\n",
            "4  2013-02-14  14.94  14.96  13.16  13.99  31879900  AAL\n"
          ]
        }
      ],
      "source": [
        "# Companies description\n",
        "desc_df = pd.read_csv('stocks_data/constituents.csv')\n",
        "print('\\nCompanies Details')\n",
        "print(desc_df.head())\n",
        "\n",
        "# stocks details\n",
        "stocks_df = pd.read_csv('stocks_data/all_stocks_5yr.csv')#, parse_dates=['date'])\n",
        "stocks_df_train = pd.read_csv('stocks_data/train_all_stocks_5yr.csv')\n",
        "stocks_df_test = pd.read_csv('stocks_data/test_all_stocks_5yr.csv')\n",
        "print('\\nCompanies Stocks')\n",
        "print(stocks_df.head())"
      ]
    },
    {
      "cell_type": "code",
      "execution_count": 10,
      "metadata": {},
      "outputs": [],
      "source": [
        "# Rename the 'datetime' string column into 'date'\n",
        "stocks_df_test.rename(columns={'datetime': 'date'}, inplace=True)\n",
        "stocks_df_train.rename(columns={'datetime': 'date'}, inplace=True)\n",
        "# Rename the 'symbol' string column into 'Name'\n",
        "stocks_df_test.rename(columns={'symbol': 'Name'}, inplace=True)\n",
        "stocks_df_train.rename(columns={'symbol': 'Name'}, inplace=True)\n",
        "stocks_df = stocks_df_train"
      ]
    },
    {
      "attachments": {},
      "cell_type": "markdown",
      "metadata": {},
      "source": [
        "# Preprocess"
      ]
    },
    {
      "cell_type": "code",
      "execution_count": 11,
      "metadata": {},
      "outputs": [
        {
          "data": {
            "text/html": [
              "<div>\n",
              "<style scoped>\n",
              "    .dataframe tbody tr th:only-of-type {\n",
              "        vertical-align: middle;\n",
              "    }\n",
              "\n",
              "    .dataframe tbody tr th {\n",
              "        vertical-align: top;\n",
              "    }\n",
              "\n",
              "    .dataframe thead th {\n",
              "        text-align: right;\n",
              "    }\n",
              "</style>\n",
              "<table border=\"1\" class=\"dataframe\">\n",
              "  <thead>\n",
              "    <tr style=\"text-align: right;\">\n",
              "      <th></th>\n",
              "      <th>Name</th>\n",
              "      <th>date</th>\n",
              "      <th>close</th>\n",
              "      <th>high</th>\n",
              "      <th>low</th>\n",
              "      <th>open</th>\n",
              "      <th>volume</th>\n",
              "      <th>change_in_price</th>\n",
              "      <th>down_days</th>\n",
              "      <th>up_days</th>\n",
              "      <th>RSI</th>\n",
              "      <th>low_14</th>\n",
              "      <th>high_14</th>\n",
              "      <th>k_percent</th>\n",
              "      <th>r_percent</th>\n",
              "      <th>MACD</th>\n",
              "      <th>MACD_EMA</th>\n",
              "      <th>Price_Rate_Of_Change</th>\n",
              "      <th>On Balance Volume</th>\n",
              "      <th>Prediction</th>\n",
              "    </tr>\n",
              "  </thead>\n",
              "  <tbody>\n",
              "    <tr>\n",
              "      <th>0</th>\n",
              "      <td>A</td>\n",
              "      <td>2013-02-28</td>\n",
              "      <td>41.48</td>\n",
              "      <td>42.06</td>\n",
              "      <td>41.45</td>\n",
              "      <td>41.78</td>\n",
              "      <td>3464202</td>\n",
              "      <td>-0.25</td>\n",
              "      <td>0.25</td>\n",
              "      <td>0.00</td>\n",
              "      <td>31.526668</td>\n",
              "      <td>40.19</td>\n",
              "      <td>45.350</td>\n",
              "      <td>25.000000</td>\n",
              "      <td>-75.000000</td>\n",
              "      <td>-0.377195</td>\n",
              "      <td>-0.296696</td>\n",
              "      <td>-0.069538</td>\n",
              "      <td>-26498313</td>\n",
              "      <td>-1.0</td>\n",
              "    </tr>\n",
              "    <tr>\n",
              "      <th>1</th>\n",
              "      <td>MTB</td>\n",
              "      <td>2013-02-28</td>\n",
              "      <td>102.09</td>\n",
              "      <td>102.77</td>\n",
              "      <td>101.55</td>\n",
              "      <td>101.77</td>\n",
              "      <td>741665</td>\n",
              "      <td>-0.56</td>\n",
              "      <td>0.56</td>\n",
              "      <td>0.00</td>\n",
              "      <td>36.680620</td>\n",
              "      <td>100.88</td>\n",
              "      <td>105.895</td>\n",
              "      <td>24.127617</td>\n",
              "      <td>-75.872383</td>\n",
              "      <td>-0.348706</td>\n",
              "      <td>-0.083759</td>\n",
              "      <td>-0.023996</td>\n",
              "      <td>-382289</td>\n",
              "      <td>-1.0</td>\n",
              "    </tr>\n",
              "    <tr>\n",
              "      <th>2</th>\n",
              "      <td>UNH</td>\n",
              "      <td>2013-02-28</td>\n",
              "      <td>53.45</td>\n",
              "      <td>53.96</td>\n",
              "      <td>53.39</td>\n",
              "      <td>53.82</td>\n",
              "      <td>5872088</td>\n",
              "      <td>-0.42</td>\n",
              "      <td>0.42</td>\n",
              "      <td>0.00</td>\n",
              "      <td>23.295602</td>\n",
              "      <td>52.51</td>\n",
              "      <td>58.255</td>\n",
              "      <td>16.362054</td>\n",
              "      <td>-83.637946</td>\n",
              "      <td>-0.502090</td>\n",
              "      <td>-0.351509</td>\n",
              "      <td>-0.063103</td>\n",
              "      <td>-41813055</td>\n",
              "      <td>-1.0</td>\n",
              "    </tr>\n",
              "    <tr>\n",
              "      <th>3</th>\n",
              "      <td>SWKS</td>\n",
              "      <td>2013-02-28</td>\n",
              "      <td>21.30</td>\n",
              "      <td>21.64</td>\n",
              "      <td>21.20</td>\n",
              "      <td>21.50</td>\n",
              "      <td>3672172</td>\n",
              "      <td>0.11</td>\n",
              "      <td>0.00</td>\n",
              "      <td>0.11</td>\n",
              "      <td>34.464025</td>\n",
              "      <td>20.28</td>\n",
              "      <td>25.100</td>\n",
              "      <td>21.161826</td>\n",
              "      <td>-78.838174</td>\n",
              "      <td>-0.449634</td>\n",
              "      <td>-0.312170</td>\n",
              "      <td>-0.146976</td>\n",
              "      <td>-13398219</td>\n",
              "      <td>1.0</td>\n",
              "    </tr>\n",
              "    <tr>\n",
              "      <th>4</th>\n",
              "      <td>XEL</td>\n",
              "      <td>2013-02-28</td>\n",
              "      <td>28.70</td>\n",
              "      <td>28.82</td>\n",
              "      <td>28.53</td>\n",
              "      <td>28.57</td>\n",
              "      <td>3616494</td>\n",
              "      <td>0.15</td>\n",
              "      <td>0.00</td>\n",
              "      <td>0.15</td>\n",
              "      <td>75.602587</td>\n",
              "      <td>27.65</td>\n",
              "      <td>28.820</td>\n",
              "      <td>89.743590</td>\n",
              "      <td>-10.256410</td>\n",
              "      <td>0.074566</td>\n",
              "      <td>-0.037752</td>\n",
              "      <td>0.029043</td>\n",
              "      <td>5357027</td>\n",
              "      <td>1.0</td>\n",
              "    </tr>\n",
              "  </tbody>\n",
              "</table>\n",
              "</div>"
            ],
            "text/plain": [
              "   Name        date   close    high     low    open   volume  change_in_price  \\\n",
              "0     A  2013-02-28   41.48   42.06   41.45   41.78  3464202            -0.25   \n",
              "1   MTB  2013-02-28  102.09  102.77  101.55  101.77   741665            -0.56   \n",
              "2   UNH  2013-02-28   53.45   53.96   53.39   53.82  5872088            -0.42   \n",
              "3  SWKS  2013-02-28   21.30   21.64   21.20   21.50  3672172             0.11   \n",
              "4   XEL  2013-02-28   28.70   28.82   28.53   28.57  3616494             0.15   \n",
              "\n",
              "   down_days  up_days        RSI  low_14  high_14  k_percent  r_percent  \\\n",
              "0       0.25     0.00  31.526668   40.19   45.350  25.000000 -75.000000   \n",
              "1       0.56     0.00  36.680620  100.88  105.895  24.127617 -75.872383   \n",
              "2       0.42     0.00  23.295602   52.51   58.255  16.362054 -83.637946   \n",
              "3       0.00     0.11  34.464025   20.28   25.100  21.161826 -78.838174   \n",
              "4       0.00     0.15  75.602587   27.65   28.820  89.743590 -10.256410   \n",
              "\n",
              "       MACD  MACD_EMA  Price_Rate_Of_Change  On Balance Volume  Prediction  \n",
              "0 -0.377195 -0.296696             -0.069538          -26498313        -1.0  \n",
              "1 -0.348706 -0.083759             -0.023996            -382289        -1.0  \n",
              "2 -0.502090 -0.351509             -0.063103          -41813055        -1.0  \n",
              "3 -0.449634 -0.312170             -0.146976          -13398219         1.0  \n",
              "4  0.074566 -0.037752              0.029043            5357027         1.0  "
            ]
          },
          "execution_count": 11,
          "metadata": {},
          "output_type": "execute_result"
        }
      ],
      "source": [
        "stocks_df.head()"
      ]
    },
    {
      "cell_type": "code",
      "execution_count": 7,
      "metadata": {},
      "outputs": [],
      "source": [
        "# dictionary for companies name and sector\n",
        "companies_names = {symbol:name for symbol, name in desc_df[['Symbol', 'Name']].values}\n",
        "companies_sector = {symbol:sector for symbol, sector in desc_df[['Symbol', 'Sector']].values}\n",
        "\n",
        "# get all companies symbols\n",
        "symbols = stocks_df['Name'].values\n",
        "dates = set(stocks_df['date'].values)\n",
        "dates = sorted(dates)\n",
        "\n",
        "# store each individual date and all its stocks\n",
        "dates_dictionary = {date:{} for date in dates}"
      ]
    },
    {
      "attachments": {},
      "cell_type": "markdown",
      "metadata": {},
      "source": [
        "# Data for Word Embeddings\n",
        "\n",
        "For each date in out dataset we rearrange each company in ascending order based on the **change in price**.\n",
        "\n",
        "Formula for **change in price** [source](https://pocketsense.com/calculate-market-price-change-common-stock-4829.html):\n",
        "* (closing_price - opening_price) / opening_price\n",
        "\n",
        "We can change the formula to use highest price and lowest price. This is something we will test out."
      ]
    },
    {
      "cell_type": "code",
      "execution_count": 12,
      "metadata": {},
      "outputs": [],
      "source": [
        "# calculate price change for each stock and sort them in each day\n",
        "for date, symbol, op, cl, in stocks_df[['date', 'Name', 'open', 'close']].values:\n",
        "  # CHANGE IN PRICE: (closing_price - opening_price) / opening_price\n",
        "  dates_dictionary[date][symbol] = (cl - op)/op\n",
        "# sort each day reverse order\n",
        "dates_dictionary = {date:sort_dict(dates_dictionary[date]) for date in dates}\n",
        "\n",
        "stocks_w2v_data = [[value[0] for value in dates_dictionary[date]] for date in dates]"
      ]
    },
    {
      "attachments": {},
      "cell_type": "markdown",
      "metadata": {},
      "source": [
        "# Train Word Embeddings"
      ]
    },
    {
      "cell_type": "code",
      "execution_count": 13,
      "metadata": {},
      "outputs": [],
      "source": [
        "def hash(astring):\n",
        "   return ord(astring[0])"
      ]
    },
    {
      "cell_type": "code",
      "execution_count": 14,
      "metadata": {},
      "outputs": [],
      "source": [
        "# recreate model with 10 dimensions(this is the model that will be used for the rest of the code)\n",
        "j = 4 # I'm assuming this from the paper\n",
        "model = Word2Vec(stocks_w2v_data, min_count=1, vector_size=j)\n",
        "words = list(model.wv.key_to_index)  # Changed here\n",
        "X = model.wv[words]  # Changed here\n",
        "Y = list()\n",
        "for word in words:\n",
        "    Y.append(companies_sector[word])\n",
        "\n",
        "# split data set for cross validation\n",
        "X_train, X_test, Y_train, Y_test = train_test_split(X, Y, test_size=0.3, random_state=42)"
      ]
    },
    {
      "attachments": {},
      "cell_type": "markdown",
      "metadata": {},
      "source": [
        "# Application"
      ]
    },
    {
      "cell_type": "code",
      "execution_count": 17,
      "metadata": {},
      "outputs": [
        {
          "name": "stdout",
          "output_type": "stream",
          "text": [
            "Symbol:ALXN\tName:Alexion Pharmaceuticals\tSector: Health Care\n",
            "Most Similar\n",
            "Symbol: REGN\tName: Regeneron\t\t\tSector: Health Care\n",
            "Symbol: ILMN\tName: Illumina Inc\t\t\tSector: Health Care\n",
            "Symbol: BIIB\tName: Biogen Inc.\t\t\tSector: Health Care\n",
            "Symbol: VRTX\tName: Vertex Pharmaceuticals Inc\t\t\tSector: Health Care\n",
            "Symbol: AAL\tName: American Airlines Group\t\t\tSector: Industrials\n",
            "Symbol: DAL\tName: Delta Air Lines Inc.\t\t\tSector: Industrials\n",
            "Symbol: MYL\tName: Mylan N.V.\t\t\tSector: Health Care\n",
            "Symbol: ALK\tName: Alaska Air Group Inc\t\t\tSector: Industrials\n",
            "Symbol: INCY\tName: Incyte\t\t\tSector: Health Care\n",
            "Symbol: UAA\tName: Under Armour Class A\t\t\tSector: Consumer Discretionary\n"
          ]
        }
      ],
      "source": [
        "# This is a little bit different from the old code, but I'm going to stick with it for now\n",
        "# print similar stocks\n",
        "target_symb = 'ALXN'\n",
        "\n",
        "print('Symbol:%s\\tName:%s\\tSector: %s'%(target_symb, companies_names[target_symb], companies_sector[target_symb]))\n",
        "top_similar = model.wv.most_similar(target_symb)\n",
        "print('Most Similar')\n",
        "for similar in top_similar:\n",
        "  symb = similar[0]\n",
        "  name = companies_names[symb]\n",
        "  sect = companies_sector[symb]\n",
        "  print('Symbol: %s\\tName: %s\\t\\t\\tSector: %s'%(symb, name, sect))"
      ]
    },
    {
      "cell_type": "code",
      "execution_count": 19,
      "metadata": {},
      "outputs": [
        {
          "name": "stdout",
          "output_type": "stream",
          "text": [
            "[-2.660959   0.8983903  2.5342708  0.6659524]\n"
          ]
        }
      ],
      "source": [
        "# access vector for one word\n",
        "print(model.wv['AAL'])"
      ]
    },
    {
      "cell_type": "code",
      "execution_count": 21,
      "metadata": {},
      "outputs": [],
      "source": [
        "# Save Stocr2vec Vectors\n",
        "binary_vectors = 'stock2vec_Keyed_Binary.bin'\n",
        "text_vectors = 'stock2vec_Keyed_Text.vec\n",
        "stoack2vecKeyedBinary = model.wv.save_word2vec_format(fname=binary_vectors, binary=True)\n",
        "stoack2vecKeyedText = model.wv.save_word2vec_format(fname=text_vectors, binary=False)"
      ]
    },
    {
      "attachments": {},
      "cell_type": "markdown",
      "metadata": {},
      "source": [
        "# Read in the vectors"
      ]
    },
    {
      "cell_type": "code",
      "execution_count": 22,
      "metadata": {},
      "outputs": [],
      "source": [
        "from gensim.models import KeyedVectors\n",
        "\n",
        "filename = 'stock2vec_Keyed_Binary.bin'\n",
        "model = KeyedVectors.load_word2vec_format(filename, binary=True)"
      ]
    },
    {
      "cell_type": "code",
      "execution_count": 24,
      "metadata": {},
      "outputs": [
        {
          "data": {
            "text/plain": [
              "array([-2.660959 ,  0.8983903,  2.5342708,  0.6659524], dtype=float32)"
            ]
          },
          "execution_count": 24,
          "metadata": {},
          "output_type": "execute_result"
        }
      ],
      "source": [
        "vector = model['AAL']\n",
        "vector"
      ]
    }
  ],
  "metadata": {
    "kernelspec": {
      "display_name": "base",
      "language": "python",
      "name": "python3"
    },
    "language_info": {
      "codemirror_mode": {
        "name": "ipython",
        "version": 3
      },
      "file_extension": ".py",
      "mimetype": "text/x-python",
      "name": "python",
      "nbconvert_exporter": "python",
      "pygments_lexer": "ipython3",
      "version": "3.9.15"
    },
    "orig_nbformat": 4
  },
  "nbformat": 4,
  "nbformat_minor": 2
}
