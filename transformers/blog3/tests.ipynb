{
 "cells": [
  {
   "cell_type": "code",
   "execution_count": 9,
   "metadata": {},
   "outputs": [],
   "source": [
    "from models import Time2Vec\n",
    "from torch.utils.data import DataLoader, TensorDataset\n",
    "import torch.optim as optim\n",
    "import torch\n",
    "import torch.nn as nn\n",
    "import torch.nn.functional as F\n",
    "import pandas_datareader.data as pdr\n",
    "import yfinance as yf\n",
    "from models import ModelTrunk\n",
    "import numpy as np"
   ]
  },
  {
   "cell_type": "code",
   "execution_count": 10,
   "metadata": {},
   "outputs": [
    {
     "ename": "RuntimeError",
     "evalue": "The size of tensor a (5) must match the size of tensor b (3) at non-singleton dimension 2",
     "output_type": "error",
     "traceback": [
      "\u001b[0;31m---------------------------------------------------------------------------\u001b[0m",
      "\u001b[0;31mRuntimeError\u001b[0m                              Traceback (most recent call last)",
      "Cell \u001b[0;32mIn[10], line 23\u001b[0m\n\u001b[1;32m     20\u001b[0m     \u001b[39mprint\u001b[39m(\u001b[39m\"\u001b[39m\u001b[39mOutput shape is as expected:\u001b[39m\u001b[39m\"\u001b[39m, y\u001b[39m.\u001b[39mshape)\n\u001b[1;32m     22\u001b[0m \u001b[39m# Run the test\u001b[39;00m\n\u001b[0;32m---> 23\u001b[0m test_time2vec()\n",
      "Cell \u001b[0;32mIn[10], line 15\u001b[0m, in \u001b[0;36mtest_time2vec\u001b[0;34m()\u001b[0m\n\u001b[1;32m     12\u001b[0m x \u001b[39m=\u001b[39m torch\u001b[39m.\u001b[39mrandn(batch_size, sequence_length, feature_dim)\n\u001b[1;32m     14\u001b[0m \u001b[39m# Run the tensor through the module\u001b[39;00m\n\u001b[0;32m---> 15\u001b[0m y \u001b[39m=\u001b[39m t2v(x)\n\u001b[1;32m     17\u001b[0m \u001b[39m# Assert that the output has the expected shape\u001b[39;00m\n\u001b[1;32m     18\u001b[0m \u001b[39massert\u001b[39;00m y\u001b[39m.\u001b[39mshape \u001b[39m==\u001b[39m (batch_size, sequence_length \u001b[39m*\u001b[39m (kernel_size \u001b[39m+\u001b[39m \u001b[39m1\u001b[39m)), \u001b[39m\"\u001b[39m\u001b[39mUnexpected output shape\u001b[39m\u001b[39m\"\u001b[39m\n",
      "File \u001b[0;32m~/miniforge3/lib/python3.9/site-packages/torch/nn/modules/module.py:1501\u001b[0m, in \u001b[0;36mModule._call_impl\u001b[0;34m(self, *args, **kwargs)\u001b[0m\n\u001b[1;32m   1496\u001b[0m \u001b[39m# If we don't have any hooks, we want to skip the rest of the logic in\u001b[39;00m\n\u001b[1;32m   1497\u001b[0m \u001b[39m# this function, and just call forward.\u001b[39;00m\n\u001b[1;32m   1498\u001b[0m \u001b[39mif\u001b[39;00m \u001b[39mnot\u001b[39;00m (\u001b[39mself\u001b[39m\u001b[39m.\u001b[39m_backward_hooks \u001b[39mor\u001b[39;00m \u001b[39mself\u001b[39m\u001b[39m.\u001b[39m_backward_pre_hooks \u001b[39mor\u001b[39;00m \u001b[39mself\u001b[39m\u001b[39m.\u001b[39m_forward_hooks \u001b[39mor\u001b[39;00m \u001b[39mself\u001b[39m\u001b[39m.\u001b[39m_forward_pre_hooks\n\u001b[1;32m   1499\u001b[0m         \u001b[39mor\u001b[39;00m _global_backward_pre_hooks \u001b[39mor\u001b[39;00m _global_backward_hooks\n\u001b[1;32m   1500\u001b[0m         \u001b[39mor\u001b[39;00m _global_forward_hooks \u001b[39mor\u001b[39;00m _global_forward_pre_hooks):\n\u001b[0;32m-> 1501\u001b[0m     \u001b[39mreturn\u001b[39;00m forward_call(\u001b[39m*\u001b[39;49margs, \u001b[39m*\u001b[39;49m\u001b[39m*\u001b[39;49mkwargs)\n\u001b[1;32m   1502\u001b[0m \u001b[39m# Do not call functions when jit is used\u001b[39;00m\n\u001b[1;32m   1503\u001b[0m full_backward_hooks, non_full_backward_hooks \u001b[39m=\u001b[39m [], []\n",
      "File \u001b[0;32m~/Documents/work/bio/embeddings/stock2vec/transformers/models.py:21\u001b[0m, in \u001b[0;36mTime2Vec.forward\u001b[0;34m(self, inputs)\u001b[0m\n\u001b[1;32m     18\u001b[0m     \u001b[39mself\u001b[39m\u001b[39m.\u001b[39mweights_initialized \u001b[39m=\u001b[39m \u001b[39mTrue\u001b[39;00m\n\u001b[1;32m     20\u001b[0m \u001b[39m# Linear transformation\u001b[39;00m\n\u001b[0;32m---> 21\u001b[0m linear_transformation \u001b[39m=\u001b[39m \u001b[39mself\u001b[39;49m\u001b[39m.\u001b[39;49mweight_bias \u001b[39m*\u001b[39;49m inputs \u001b[39m+\u001b[39m \u001b[39mself\u001b[39m\u001b[39m.\u001b[39mbias_bias\n\u001b[1;32m     22\u001b[0m \u001b[39m# Angular transformation\u001b[39;00m\n\u001b[1;32m     23\u001b[0m \u001b[39m# We add an extra dimension for inputs to match the shape of weight_angle\u001b[39;00m\n\u001b[1;32m     24\u001b[0m \u001b[39m# input shape becomes [batch_size, sequence_length, feature_dim, 1]\u001b[39;00m\n\u001b[1;32m     25\u001b[0m inputs \u001b[39m=\u001b[39m inputs\u001b[39m.\u001b[39munsqueeze(\u001b[39m-\u001b[39m\u001b[39m1\u001b[39m)\n",
      "\u001b[0;31mRuntimeError\u001b[0m: The size of tensor a (5) must match the size of tensor b (3) at non-singleton dimension 2"
     ]
    }
   ],
   "source": [
    "# Test the Time2Vec module\n",
    "def test_time2vec():\n",
    "    batch_size = 10\n",
    "    sequence_length = 5\n",
    "    feature_dim = 3\n",
    "    kernel_size = 2\n",
    "    \n",
    "    # Create an instance of Time2Vec\n",
    "    t2v = Time2Vec(kernel_size=kernel_size)\n",
    "    \n",
    "    # Create a random tensor of the appropriate shape\n",
    "    x = torch.randn(batch_size, sequence_length, feature_dim)\n",
    "\n",
    "    # Run the tensor through the module\n",
    "    y = t2v(x)\n",
    "    \n",
    "    # Assert that the output has the expected shape\n",
    "    assert y.shape == (batch_size, sequence_length * (kernel_size + 1)), \"Unexpected output shape\"\n",
    "    \n",
    "    print(\"Output shape is as expected:\", y.shape)\n",
    "    \n",
    "# Run the test\n",
    "test_time2vec()"
   ]
  }
 ],
 "metadata": {
  "kernelspec": {
   "display_name": "base",
   "language": "python",
   "name": "python3"
  },
  "language_info": {
   "codemirror_mode": {
    "name": "ipython",
    "version": 3
   },
   "file_extension": ".py",
   "mimetype": "text/x-python",
   "name": "python",
   "nbconvert_exporter": "python",
   "pygments_lexer": "ipython3",
   "version": "3.9.15"
  },
  "orig_nbformat": 4
 },
 "nbformat": 4,
 "nbformat_minor": 2
}
